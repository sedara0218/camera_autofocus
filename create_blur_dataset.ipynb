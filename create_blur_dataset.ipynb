{
 "cells": [
  {
   "cell_type": "code",
   "execution_count": 2,
   "metadata": {},
   "outputs": [],
   "source": [
    "import cv2\n",
    "import os\n",
    "from random import randint"
   ]
  },
  {
   "cell_type": "code",
   "execution_count": 6,
   "metadata": {},
   "outputs": [],
   "source": [
    "# source = 'train_data/focused/'\n",
    "source = 'validation_data/focused/'\n",
    "# dest = 'train_data/unfocused/'\n",
    "dest = 'validation_data/unfocused/'\n",
    "n_augment = 985"
   ]
  },
  {
   "cell_type": "code",
   "execution_count": 7,
   "metadata": {},
   "outputs": [
    {
     "name": "stdout",
     "output_type": "stream",
     "text": [
      "985\n"
     ]
    }
   ],
   "source": [
    "count = 0\n",
    "extensions = ('.png', '.jpg', '.jpeg')\n",
    "for img_path in os.listdir(source):\n",
    "    if count == n_augment:\n",
    "        break\n",
    "        \n",
    "    img_path = img_path.lower()\n",
    "    if img_path.endswith(extensions):\n",
    "        img = cv2.imread(source + img_path)\n",
    "        \n",
    "        blur_n = randint(3,31)\n",
    "        if blur_n%2 == 0:\n",
    "            blur_n+=1\n",
    "\n",
    "        blur_img = cv2.GaussianBlur(img,(blur_n,blur_n),0)\n",
    "        cv2.imwrite(dest + img_path, blur_img)\n",
    "        count+=1\n",
    "\n",
    "print count"
   ]
  },
  {
   "cell_type": "code",
   "execution_count": null,
   "metadata": {},
   "outputs": [],
   "source": []
  }
 ],
 "metadata": {
  "kernelspec": {
   "display_name": "Python 2",
   "language": "python",
   "name": "python2"
  },
  "language_info": {
   "codemirror_mode": {
    "name": "ipython",
    "version": 2
   },
   "file_extension": ".py",
   "mimetype": "text/x-python",
   "name": "python",
   "nbconvert_exporter": "python",
   "pygments_lexer": "ipython2",
   "version": "2.7.10"
  }
 },
 "nbformat": 4,
 "nbformat_minor": 2
}
