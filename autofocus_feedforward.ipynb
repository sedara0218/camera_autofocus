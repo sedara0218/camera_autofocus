{
 "cells": [
  {
   "cell_type": "code",
   "execution_count": 1,
   "metadata": {},
   "outputs": [],
   "source": [
    "import warnings\n",
    "warnings.filterwarnings(\"always\")"
   ]
  },
  {
   "cell_type": "code",
   "execution_count": 3,
   "metadata": {},
   "outputs": [],
   "source": [
    "import numpy as np, matplotlib.pyplot as plt\n",
    "import keras"
   ]
  },
  {
   "cell_type": "code",
   "execution_count": 5,
   "metadata": {},
   "outputs": [
    {
     "data": {
      "text/plain": [
       "'\\nCREATE FEED FORWARD MODEL\\n'"
      ]
     },
     "execution_count": 5,
     "metadata": {},
     "output_type": "execute_result"
    }
   ],
   "source": [
    "'''\n",
    "CREATE FEED FORWARD MODEL\n",
    "'''"
   ]
  },
  {
   "cell_type": "code",
   "execution_count": 35,
   "metadata": {},
   "outputs": [
    {
     "name": "stdout",
     "output_type": "stream",
     "text": [
      "_________________________________________________________________\n",
      "Layer (type)                 Output Shape              Param #   \n",
      "=================================================================\n",
      "dense_57 (Dense)             (None, 224, 224, 3)       12        \n",
      "_________________________________________________________________\n",
      "flatten_4 (Flatten)          (None, 150528)            0         \n",
      "_________________________________________________________________\n",
      "dense_58 (Dense)             (None, 1024)              154141696 \n",
      "_________________________________________________________________\n",
      "dropout_37 (Dropout)         (None, 1024)              0         \n",
      "_________________________________________________________________\n",
      "dense_59 (Dense)             (None, 128)               131200    \n",
      "_________________________________________________________________\n",
      "dropout_38 (Dropout)         (None, 128)               0         \n",
      "_________________________________________________________________\n",
      "dense_60 (Dense)             (None, 2)                 258       \n",
      "=================================================================\n",
      "Total params: 154,273,166\n",
      "Trainable params: 154,273,166\n",
      "Non-trainable params: 0\n",
      "_________________________________________________________________\n"
     ]
    }
   ],
   "source": [
    "from keras import layers\n",
    "\n",
    "my_model = keras.models.Sequential()\n",
    "my_model.add(layers.Dense(3, input_shape=(224,224, 3), activation='relu'))\n",
    "my_model.add(layers.Flatten())\n",
    "my_model.add(layers.Dense(1024, activation='relu'))\n",
    "my_model.add(layers.Dropout(0.5))\n",
    "my_model.add(layers.Dense(128, activation='relu'))\n",
    "my_model.add(layers.Dropout(0.5))\n",
    "my_model.add(layers.Dense(2, activation='softmax'))\n",
    "my_model.summary()"
   ]
  },
  {
   "cell_type": "code",
   "execution_count": 36,
   "metadata": {},
   "outputs": [
    {
     "data": {
      "text/plain": [
       "'\\nSET UP TRAINING AND VALIDATION DATA\\n'"
      ]
     },
     "execution_count": 36,
     "metadata": {},
     "output_type": "execute_result"
    }
   ],
   "source": [
    "'''\n",
    "SET UP TRAINING AND VALIDATION DATA\n",
    "'''"
   ]
  },
  {
   "cell_type": "code",
   "execution_count": 37,
   "metadata": {},
   "outputs": [
    {
     "name": "stdout",
     "output_type": "stream",
     "text": [
      "Found 1400 images belonging to 2 classes.\n",
      "Found 600 images belonging to 2 classes.\n"
     ]
    }
   ],
   "source": [
    "from keras.preprocessing.image import ImageDataGenerator, load_img\n",
    "\n",
    "train_datagen = ImageDataGenerator(\n",
    "                            rescale=1./255,\n",
    "                            rotation_range=20,\n",
    "                            width_shift_range=0.2,\n",
    "                            height_shift_range=0.2,\n",
    "                            horizontal_flip=True,\n",
    "                            vertical_flip=True,\n",
    "                            fill_mode='nearest')\n",
    "\n",
    "validation_datagen = ImageDataGenerator(rescale=1./255)\n",
    "\n",
    "train_batchsize = 20\n",
    "val_batchsize = 5\n",
    "\n",
    "train_generator = train_datagen.flow_from_directory(\n",
    "                                                'train_data',\n",
    "                                                target_size=(224, 224),\n",
    "                                                batch_size=train_batchsize,\n",
    "                                                class_mode='categorical')\n",
    "\n",
    "validation_generator = validation_datagen.flow_from_directory(\n",
    "                                                    'validation_data',\n",
    "                                                    target_size=(224, 224),\n",
    "                                                    batch_size=val_batchsize,\n",
    "                                                    class_mode='categorical',\n",
    "                                                    shuffle=False)"
   ]
  },
  {
   "cell_type": "code",
   "execution_count": 38,
   "metadata": {},
   "outputs": [
    {
     "data": {
      "text/plain": [
       "'\\nCOMPILE AND TRAIN MODEL\\n'"
      ]
     },
     "execution_count": 38,
     "metadata": {},
     "output_type": "execute_result"
    }
   ],
   "source": [
    "'''\n",
    "COMPILE AND TRAIN MODEL\n",
    "'''"
   ]
  },
  {
   "cell_type": "code",
   "execution_count": null,
   "metadata": {},
   "outputs": [
    {
     "name": "stdout",
     "output_type": "stream",
     "text": [
      "Training new model...\n",
      "Epoch 1/25\n",
      "140/140 [==============================] - 337s 2s/step - loss: 1.0847 - acc: 0.4918 - val_loss: 0.9358 - val_acc: 0.5083\n",
      "\n",
      "Epoch 00001: saving model to autofocus_ff.h5\n",
      "Epoch 2/25\n",
      "125/140 [=========================>....] - ETA: 32s - loss: 0.8546 - acc: 0.4956"
     ]
    }
   ],
   "source": [
    "# Compile\n",
    "try:\n",
    "    my_model = keras.models.load_model('autofocus_ff.h5') # trains from last epoch if model exists\n",
    "except:\n",
    "    print \"Training new model...\"\n",
    "    my_model.compile(loss='categorical_crossentropy',\n",
    "                    optimizer='adam',\n",
    "                    metrics=['acc'])\n",
    "\n",
    "# Train\n",
    "checkpoint = keras.callbacks.ModelCheckpoint('autofocus_ff.h5', monitor='val_loss', verbose=1, period=1)\n",
    "\n",
    "my_model_hist = my_model.fit_generator(\n",
    "                            train_generator,\n",
    "                            steps_per_epoch=2*train_generator.samples/train_generator.batch_size ,\n",
    "                            epochs=25,\n",
    "                            validation_data=validation_generator,\n",
    "                            validation_steps=validation_generator.samples/validation_generator.batch_size,\n",
    "                            verbose=1,\n",
    "                            callbacks=[checkpoint])\n",
    "\n",
    "# Save the Model\n",
    "my_model.save('autofocus_ff.h5')"
   ]
  },
  {
   "cell_type": "code",
   "execution_count": null,
   "metadata": {},
   "outputs": [],
   "source": []
  }
 ],
 "metadata": {
  "kernelspec": {
   "display_name": "Python 2",
   "language": "python",
   "name": "python2"
  },
  "language_info": {
   "codemirror_mode": {
    "name": "ipython",
    "version": 2
   },
   "file_extension": ".py",
   "mimetype": "text/x-python",
   "name": "python",
   "nbconvert_exporter": "python",
   "pygments_lexer": "ipython2",
   "version": "2.7.10"
  }
 },
 "nbformat": 4,
 "nbformat_minor": 2
}
